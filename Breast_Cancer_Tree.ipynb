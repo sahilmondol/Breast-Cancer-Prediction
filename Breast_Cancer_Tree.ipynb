{
 "cells": [
  {
   "cell_type": "markdown",
   "metadata": {},
   "source": [
    "# Breast Cancer Prediction Using Decision Tree Classifier"
   ]
  },
  {
   "cell_type": "code",
   "execution_count": 2,
   "metadata": {},
   "outputs": [],
   "source": [
    "#Importing the datasets from sklearn\n",
    "from sklearn import datasets\n",
    "#importing the classifier we are going to use, that is Decision Tree\n",
    "from sklearn import tree\n",
    "#importing train_test_split module from sklearn to split the data into Training And Testing\n",
    "from sklearn.model_selection import train_test_split as tts\n",
    "#importing the module from sklearn to find the Precision, Recall and Fscore of our model\n",
    "from sklearn.metrics import precision_recall_fscore_support"
   ]
  },
  {
   "cell_type": "code",
   "execution_count": 3,
   "metadata": {},
   "outputs": [],
   "source": [
    "#load the dataset of Breast Cancer using load_breast_cancer() from sklearn\n",
    "cancer=datasets.load_breast_cancer()\n",
    "#declaring the features and labels \n",
    "features=cancer.data\n",
    "labels=cancer.target\n",
    "#split the dataset into training and testing set.\n",
    "train_feats,test_feats,train_labels,test_labels=tts(features,labels,test_size=0.2)"
   ]
  },
  {
   "cell_type": "code",
   "execution_count": 4,
   "metadata": {},
   "outputs": [
    {
     "data": {
      "text/plain": [
       "DecisionTreeClassifier(class_weight=None, criterion='gini', max_depth=None,\n",
       "            max_features=None, max_leaf_nodes=None,\n",
       "            min_impurity_decrease=0.0, min_impurity_split=None,\n",
       "            min_samples_leaf=1, min_samples_split=2,\n",
       "            min_weight_fraction_leaf=0.0, presort=False, random_state=None,\n",
       "            splitter='best')"
      ]
     },
     "execution_count": 4,
     "metadata": {},
     "output_type": "execute_result"
    }
   ],
   "source": [
    "#the classifier\n",
    "clf=tree.DecisionTreeClassifier()\n",
    "#Train the classifier\n",
    "clf.fit(train_feats,train_labels)"
   ]
  },
  {
   "cell_type": "code",
   "execution_count": 5,
   "metadata": {},
   "outputs": [
    {
     "name": "stdout",
     "output_type": "stream",
     "text": [
      "[1 0 1 1 0 1 0 0 0 0 0 0 1 0 1 0 0 1 0 0 1 0 0 1 1 1 0 1 0 0 1 1 1 1 1 0 0\n",
      " 0 1 1 1 1 1 1 1 1 0 1 0 0 0 0 1 1 1 0 0 0 1 1 0 1 1 1 0 1 1 0 1 1 0 0 1 1\n",
      " 1 1 1 0 0 1 1 1 0 1 1 0 1 1 0 1 0 0 0 1 0 0 1 1 1 0 0 1 1 1 1 1 0 1 0 1 1\n",
      " 1 0 1]\n"
     ]
    }
   ],
   "source": [
    "#find the prediction\n",
    "prediction=clf.predict(test_feats)\n",
    "#printing the predictions\n",
    "print(prediction)"
   ]
  },
  {
   "cell_type": "code",
   "execution_count": 6,
   "metadata": {},
   "outputs": [
    {
     "name": "stdout",
     "output_type": "stream",
     "text": [
      "89.47368421052632\n",
      "(0.9538461538461539, 0.8732394366197183, 0.9117647058823529, None)\n"
     ]
    }
   ],
   "source": [
    "#cross-validation\n",
    "score=0\n",
    "for i in range(len(prediction)):\n",
    "    if prediction[i]==test_labels[i]:\n",
    "        score+=1\n",
    "#printing the accuracy of the model using Support Vector Machine\n",
    "print(score/len(prediction)*100)\n",
    "#printing the Presion, Recall and F-score\n",
    "print(precision_recall_fscore_support(test_labels, prediction, average='binary'))"
   ]
  },
  {
   "cell_type": "code",
   "execution_count": null,
   "metadata": {},
   "outputs": [],
   "source": []
  }
 ],
 "metadata": {
  "kernelspec": {
   "display_name": "Python 3",
   "language": "python",
   "name": "python3"
  },
  "language_info": {
   "codemirror_mode": {
    "name": "ipython",
    "version": 3
   },
   "file_extension": ".py",
   "mimetype": "text/x-python",
   "name": "python",
   "nbconvert_exporter": "python",
   "pygments_lexer": "ipython3",
   "version": "3.6.4rc1"
  }
 },
 "nbformat": 4,
 "nbformat_minor": 2
}
