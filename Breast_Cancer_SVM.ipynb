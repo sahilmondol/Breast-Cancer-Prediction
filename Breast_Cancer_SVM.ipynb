{
 "cells": [
  {
   "cell_type": "markdown",
   "metadata": {},
   "source": [
    "# Breast Cancer Prediction Using Support Vector Machine Classifier"
   ]
  },
  {
   "cell_type": "code",
   "execution_count": 9,
   "metadata": {},
   "outputs": [],
   "source": [
    "#Importing the datasets from sklearn\n",
    "from sklearn import datasets\n",
    "#importing the classifier we are going to use that is Support Vector Machine\n",
    "from sklearn import svm\n",
    "#importing train_test_split module from sklearn to split the data into Training And Testing\n",
    "from sklearn.model_selection import train_test_split as tts\n",
    "#importing the module from sklearn to find the Precision, Recall and Fscore of our model\n",
    "from sklearn.metrics import precision_recall_fscore_support"
   ]
  },
  {
   "cell_type": "code",
   "execution_count": 10,
   "metadata": {},
   "outputs": [],
   "source": [
    "#load the dataset of Breast Cancer using load_breast_cancer() from sklearn\n",
    "cancer=datasets.load_breast_cancer()\n",
    "#declaring the features and labels \n",
    "features=cancer.data\n",
    "labels=cancer.target\n",
    "#split the dataset into training and testing set.\n",
    "train_feats,test_feats,train_labels,test_labels=tts(features,labels,test_size=0.2)"
   ]
  },
  {
   "cell_type": "code",
   "execution_count": 11,
   "metadata": {},
   "outputs": [
    {
     "data": {
      "text/plain": [
       "SVC(C=1.0, cache_size=200, class_weight=None, coef0=0.0,\n",
       "  decision_function_shape='ovr', degree=3, gamma='auto', kernel='linear',\n",
       "  max_iter=-1, probability=False, random_state=None, shrinking=True,\n",
       "  tol=0.001, verbose=False)"
      ]
     },
     "execution_count": 11,
     "metadata": {},
     "output_type": "execute_result"
    }
   ],
   "source": [
    "#the classifier\n",
    "clf=svm.SVC(kernel='linear')\n",
    "#Train the classifier\n",
    "clf.fit(train_feats,train_labels)"
   ]
  },
  {
   "cell_type": "code",
   "execution_count": 12,
   "metadata": {},
   "outputs": [
    {
     "name": "stdout",
     "output_type": "stream",
     "text": [
      "[1 1 1 0 1 0 1 0 0 0 0 0 1 0 1 0 1 1 1 1 0 1 1 1 0 1 1 0 1 0 0 0 1 1 0 0 0\n",
      " 0 0 0 1 1 0 1 1 0 0 1 0 1 1 0 0 1 0 1 1 1 1 1 1 0 1 1 0 0 1 0 1 1 0 1 0 0\n",
      " 0 1 1 0 0 0 0 1 1 0 1 1 0 0 0 1 1 0 0 1 1 1 0 1 1 0 1 1 0 1 1 0 0 0 1 0 0\n",
      " 1 0 1]\n"
     ]
    }
   ],
   "source": [
    "#find the prediction\n",
    "prediction=clf.predict(test_feats)\n",
    "#printing the predictions\n",
    "print(prediction)"
   ]
  },
  {
   "cell_type": "code",
   "execution_count": 13,
   "metadata": {},
   "outputs": [
    {
     "name": "stdout",
     "output_type": "stream",
     "text": [
      "92.98245614035088\n",
      "(0.9152542372881356, 0.9473684210526315, 0.9310344827586206, None)\n"
     ]
    }
   ],
   "source": [
    "#cross-validation\n",
    "score=0\n",
    "for i in range(len(prediction)):\n",
    "    if prediction[i]==test_labels[i]:\n",
    "        score+=1\n",
    "#printing the accuracy of the model using Support Vector Machine\n",
    "print(score/len(prediction)*100)\n",
    "#printing the Presion, Recall and F-score\n",
    "print(precision_recall_fscore_support(test_labels, prediction, average='binary'))"
   ]
  },
  {
   "cell_type": "code",
   "execution_count": null,
   "metadata": {},
   "outputs": [],
   "source": []
  },
  {
   "cell_type": "code",
   "execution_count": null,
   "metadata": {},
   "outputs": [],
   "source": []
  },
  {
   "cell_type": "code",
   "execution_count": null,
   "metadata": {},
   "outputs": [],
   "source": []
  }
 ],
 "metadata": {
  "kernelspec": {
   "display_name": "Python 3",
   "language": "python",
   "name": "python3"
  },
  "language_info": {
   "codemirror_mode": {
    "name": "ipython",
    "version": 3
   },
   "file_extension": ".py",
   "mimetype": "text/x-python",
   "name": "python",
   "nbconvert_exporter": "python",
   "pygments_lexer": "ipython3",
   "version": "3.6.4rc1"
  }
 },
 "nbformat": 4,
 "nbformat_minor": 2
}
