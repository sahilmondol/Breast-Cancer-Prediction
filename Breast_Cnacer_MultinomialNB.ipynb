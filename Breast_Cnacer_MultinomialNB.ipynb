{
 "cells": [
  {
   "cell_type": "markdown",
   "metadata": {},
   "source": [
    "#  Breast Cancer Prediction Using Multinomial Naive Bayes"
   ]
  },
  {
   "cell_type": "code",
   "execution_count": 1,
   "metadata": {},
   "outputs": [],
   "source": [
    "#Importing the datasets from sklearn\n",
    "from sklearn import datasets\n",
    "#importing the classifier we are going to use, that is Gaussian Naive Bayes\n",
    "from sklearn.naive_bayes import MultinomialNB\n",
    "#importing train_test_split module from sklearn to split the data into Training And Testing\n",
    "from sklearn.model_selection import train_test_split as tts\n",
    "#importing the module from sklearn to find the Precision, Recall and Fscore of our model\n",
    "from sklearn.metrics import precision_recall_fscore_support"
   ]
  },
  {
   "cell_type": "code",
   "execution_count": 2,
   "metadata": {},
   "outputs": [],
   "source": [
    "#load the dataset of Breast Cancer using load_breast_cancer() from sklearn\n",
    "cancer=datasets.load_breast_cancer()\n",
    "#declaring the features and labels \n",
    "features=cancer.data\n",
    "labels=cancer.target\n",
    "#split the dataset into training and testing set.\n",
    "train_feats,test_feats,train_labels,test_labels=tts(features,labels,test_size=0.2)"
   ]
  },
  {
   "cell_type": "code",
   "execution_count": 3,
   "metadata": {},
   "outputs": [
    {
     "data": {
      "text/plain": [
       "MultinomialNB(alpha=1.0, class_prior=None, fit_prior=True)"
      ]
     },
     "execution_count": 3,
     "metadata": {},
     "output_type": "execute_result"
    }
   ],
   "source": [
    "#the classifier\n",
    "MultiNB=MultinomialNB()\n",
    "#Train the classifier\n",
    "MultiNB.fit(train_feats,train_labels)"
   ]
  },
  {
   "cell_type": "code",
   "execution_count": 4,
   "metadata": {},
   "outputs": [
    {
     "name": "stdout",
     "output_type": "stream",
     "text": [
      "[1 0 1 0 0 1 0 1 0 1 1 1 1 0 0 0 1 0 1 1 1 0 0 1 1 0 0 0 1 1 1 1 1 0 1 1 0\n",
      " 0 1 0 1 1 1 1 1 1 1 1 1 0 0 0 1 0 0 1 0 1 1 1 1 1 0 1 0 1 1 0 0 1 1 1 1 1\n",
      " 1 1 0 1 1 1 1 1 1 1 1 1 1 1 1 1 0 1 1 1 1 1 1 0 1 1 1 0 1 1 1 0 1 1 1 1 1\n",
      " 1 1 1]\n"
     ]
    }
   ],
   "source": [
    "#find the prediction\n",
    "prediction=MultiNB.predict(test_feats)\n",
    "#printing the predictions\n",
    "print(prediction)"
   ]
  },
  {
   "cell_type": "code",
   "execution_count": 5,
   "metadata": {},
   "outputs": [
    {
     "name": "stdout",
     "output_type": "stream",
     "text": [
      "91.22807017543859\n",
      "(0.8888888888888888, 0.9863013698630136, 0.935064935064935, None)\n"
     ]
    }
   ],
   "source": [
    "#cross-validation\n",
    "score=0\n",
    "for i in range(len(prediction)):\n",
    "    if prediction[i]==test_labels[i]:\n",
    "        score+=1\n",
    "#printing the accuracy of the model using Support Vector Machine\n",
    "print(score/len(prediction)*100)\n",
    "#printing the Presion, Recall and F-score\n",
    "print(precision_recall_fscore_support(test_labels, prediction, average='binary'))"
   ]
  },
  {
   "cell_type": "code",
   "execution_count": null,
   "metadata": {},
   "outputs": [],
   "source": []
  }
 ],
 "metadata": {
  "kernelspec": {
   "display_name": "Python 3",
   "language": "python",
   "name": "python3"
  },
  "language_info": {
   "codemirror_mode": {
    "name": "ipython",
    "version": 3
   },
   "file_extension": ".py",
   "mimetype": "text/x-python",
   "name": "python",
   "nbconvert_exporter": "python",
   "pygments_lexer": "ipython3",
   "version": "3.6.4rc1"
  }
 },
 "nbformat": 4,
 "nbformat_minor": 2
}
